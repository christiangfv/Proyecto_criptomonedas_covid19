{
 "cells": [
  {
   "cell_type": "code",
   "execution_count": 43,
   "metadata": {
    "ExecuteTime": {
     "end_time": "2020-07-15T22:35:04.073052Z",
     "start_time": "2020-07-15T22:35:03.914405Z"
    }
   },
   "outputs": [],
   "source": [
    "import pandas \n",
    "\n",
    "df_btc = pandas.read_excel('BTC.xlsx')\n",
    "df_btc['Date'] = pandas.to_datetime(df_btc['Date'])\n",
    "df_btc.to_csv('dataset_btc.csv',index=False)\n"
   ]
  },
  {
   "cell_type": "code",
   "execution_count": 44,
   "metadata": {
    "ExecuteTime": {
     "end_time": "2020-07-15T22:35:07.439258Z",
     "start_time": "2020-07-15T22:35:06.292786Z"
    }
   },
   "outputs": [],
   "source": [
    "df_covid = pandas.read_csv('dataset_covid.csv')\n",
    "df_covid['Date'] = pandas.to_datetime(df_covid['dateRep'])\n",
    "df_covid = df_covid.drop(labels=['dateRep','day','month','year'],axis=1)\n",
    "df_covid = df_covid[['Date', 'cases', 'deaths', 'countriesAndTerritories', 'geoId',\n",
    "       'countryterritoryCode', 'popData2019', 'continentExp',\n",
    "       'Cumulative_number_for_14_days_of_COVID-19_cases_per_100000']]\n",
    "df_covid.to_csv('dataset_covid19.csv',index=False)"
   ]
  },
  {
   "cell_type": "code",
   "execution_count": 45,
   "metadata": {
    "ExecuteTime": {
     "end_time": "2020-07-15T22:35:09.164451Z",
     "start_time": "2020-07-15T22:35:09.010222Z"
    }
   },
   "outputs": [],
   "source": [
    "df_btc = pandas.read_excel('ETH.xlsx')\n",
    "df_btc['Date'] = pandas.to_datetime(df_btc['Date'])\n",
    "df_btc.to_csv('dataset_eth.csv',index=False)"
   ]
  },
  {
   "cell_type": "code",
   "execution_count": null,
   "metadata": {},
   "outputs": [],
   "source": []
  }
 ],
 "metadata": {
  "kernelspec": {
   "display_name": "Python 3",
   "language": "python",
   "name": "python3"
  },
  "language_info": {
   "codemirror_mode": {
    "name": "ipython",
    "version": 3
   },
   "file_extension": ".py",
   "mimetype": "text/x-python",
   "name": "python",
   "nbconvert_exporter": "python",
   "pygments_lexer": "ipython3",
   "version": "3.7.6"
  },
  "nbTranslate": {
   "displayLangs": [
    "*"
   ],
   "hotkey": "alt-t",
   "langInMainMenu": true,
   "sourceLang": "en",
   "targetLang": "fr",
   "useGoogleTranslate": true
  },
  "varInspector": {
   "cols": {
    "lenName": 16,
    "lenType": 16,
    "lenVar": 40
   },
   "kernels_config": {
    "python": {
     "delete_cmd_postfix": "",
     "delete_cmd_prefix": "del ",
     "library": "var_list.py",
     "varRefreshCmd": "print(var_dic_list())"
    },
    "r": {
     "delete_cmd_postfix": ") ",
     "delete_cmd_prefix": "rm(",
     "library": "var_list.r",
     "varRefreshCmd": "cat(var_dic_list()) "
    }
   },
   "types_to_exclude": [
    "module",
    "function",
    "builtin_function_or_method",
    "instance",
    "_Feature"
   ],
   "window_display": false
  }
 },
 "nbformat": 4,
 "nbformat_minor": 4
}
