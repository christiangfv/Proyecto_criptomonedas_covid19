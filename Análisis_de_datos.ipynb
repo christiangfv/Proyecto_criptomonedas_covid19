{
 "cells": [
  {
   "cell_type": "code",
   "execution_count": 39,
   "metadata": {
    "ExecuteTime": {
     "end_time": "2020-07-15T22:28:11.651282Z",
     "start_time": "2020-07-15T22:28:11.503967Z"
    }
   },
   "outputs": [],
   "source": [
    "import pandas \n",
    "\n",
    "df_btc = pandas.read_excel('BTC.xlsx')\n",
    "df_btc['Date'] = pandas.to_datetime(df_btc['Date'])\n",
    "df_btc.to_csv('dataset_btc.csv')\n"
   ]
  },
  {
   "cell_type": "code",
   "execution_count": 40,
   "metadata": {
    "ExecuteTime": {
     "end_time": "2020-07-15T22:28:43.119767Z",
     "start_time": "2020-07-15T22:28:42.047245Z"
    }
   },
   "outputs": [],
   "source": [
    "df_covid = pandas.read_csv('dataset_covid.csv')\n",
    "df_covid['Date'] = pandas.to_datetime(df_covid['dateRep'])\n",
    "df_covid = df_covid.drop(labels=['dateRep','day','month','year'],axis=1)\n",
    "df_covid = df_covid[['Date', 'cases', 'deaths', 'countriesAndTerritories', 'geoId',\n",
    "       'countryterritoryCode', 'popData2019', 'continentExp',\n",
    "       'Cumulative_number_for_14_days_of_COVID-19_cases_per_100000']]\n",
    "df_covid.to_csv('dataset_covid19.csv')"
   ]
  },
  {
   "cell_type": "code",
   "execution_count": 41,
   "metadata": {
    "ExecuteTime": {
     "end_time": "2020-07-15T22:29:14.720795Z",
     "start_time": "2020-07-15T22:29:14.552150Z"
    }
   },
   "outputs": [],
   "source": [
    "df_btc = pandas.read_excel('ETH.xlsx')\n",
    "df_btc['Date'] = pandas.to_datetime(df_btc['Date'])\n",
    "df_btc.to_csv('dataset_eth.csv')"
   ]
  },
  {
   "cell_type": "code",
   "execution_count": null,
   "metadata": {},
   "outputs": [],
   "source": []
  }
 ],
 "metadata": {
  "kernelspec": {
   "display_name": "Python 3",
   "language": "python",
   "name": "python3"
  },
  "language_info": {
   "codemirror_mode": {
    "name": "ipython",
    "version": 3
   },
   "file_extension": ".py",
   "mimetype": "text/x-python",
   "name": "python",
   "nbconvert_exporter": "python",
   "pygments_lexer": "ipython3",
   "version": "3.7.6"
  },
  "nbTranslate": {
   "displayLangs": [
    "*"
   ],
   "hotkey": "alt-t",
   "langInMainMenu": true,
   "sourceLang": "en",
   "targetLang": "fr",
   "useGoogleTranslate": true
  },
  "varInspector": {
   "cols": {
    "lenName": 16,
    "lenType": 16,
    "lenVar": 40
   },
   "kernels_config": {
    "python": {
     "delete_cmd_postfix": "",
     "delete_cmd_prefix": "del ",
     "library": "var_list.py",
     "varRefreshCmd": "print(var_dic_list())"
    },
    "r": {
     "delete_cmd_postfix": ") ",
     "delete_cmd_prefix": "rm(",
     "library": "var_list.r",
     "varRefreshCmd": "cat(var_dic_list()) "
    }
   },
   "types_to_exclude": [
    "module",
    "function",
    "builtin_function_or_method",
    "instance",
    "_Feature"
   ],
   "window_display": false
  }
 },
 "nbformat": 4,
 "nbformat_minor": 4
}
